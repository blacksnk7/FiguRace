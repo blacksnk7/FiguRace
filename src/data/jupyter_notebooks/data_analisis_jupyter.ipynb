{
 "cells": [
  {
   "cell_type": "markdown",
   "metadata": {},
   "source": [
    "# __Análisis y muestra de datos__\n",
    "\n",
    "### Estadísticas a mostrar y gráficos\n",
    "\n",
    "#### La sección de estadísticas deberá mostrar como mínimo la siguiente información en base a los eventos guardados de todas las partidas:\n",
    "\n",
    "● Top 10 de palabras que se encuentran primero de todas las partidas.\n",
    "\n",
    "● Gráfico que muestre el porcentaje de partidas por estado (fin, cancelada, error, timeout). También debe tener en cuenta las partidas que se terminaron inesperadamente o de forma repentina (partidas sin evento de fin).\n",
    "\n",
    "● Gráfico que muestre el porcentaje de partidas finalizadas según género.\n",
    "\n",
    "● Gráfico que muestre el porcentaje de partidas finalizadas según nivel.\n",
    "\n",
    "● Duración total de la partida (desde que el usuarie empieza a jugar hasta que presiona salir o pasan las N rondas definidas para el nivel de dificultad actual).\n",
    "\n",
    "● Tiempo de la respuesta exitosa más rápida.\n",
    "\n",
    "● Promedio de tiempo de respuesta para respuestas exitosas.\n",
    "\n",
    "● Promedio de tiempo de partida general.\n",
    "\n",
    "● Porcentaje de aciertos por usuarie.\n",
    "\n",
    "● Cantidad de tarjetas para las que el usuarie no dió respuesta (timeout).\n",
    "\n",
    "● Cantidad de tarjetas en las que el usuarie dió una respuesta errónea.\n",
    "\n",
    "#### Se podrán agregar opcionalmente:\n",
    "\n",
    "● Promedio de tiempo de partidas finalizadas por nivel."
   ]
  },
  {
   "cell_type": "markdown",
   "metadata": {},
   "source": [
    "### Codigo:\n",
    "Para comenzar, importamos las tres librerias de las cuales haremos uso: \n",
    "● os (para definir el pathing del archivo a analizar).\n",
    "● pandas (para la lectura y manejo de informacion).\n",
    "● matplotlib (para la muestra de informacion).\n",
    "● reduce (para sumar todos los elementos de un iterable)"
   ]
  },
  {
   "cell_type": "code",
   "execution_count": 37,
   "metadata": {},
   "outputs": [],
   "source": [
    "import pandas as pd\n",
    "import matplotlib.pyplot as plt\n",
    "import os\n",
    "from functools import reduce"
   ]
  },
  {
   "cell_type": "code",
   "execution_count": 38,
   "metadata": {},
   "outputs": [],
   "source": [
    "file = os.path.join((os.path.normpath(os.getcwd() + os.sep + os.pardir)), 'files_csv', 'round_analisis.csv')"
   ]
  },
  {
   "cell_type": "markdown",
   "metadata": {},
   "source": [
    "Ahora tendremos distintas funciones las cuales resolver cada uno de los puntos anteriores. Comenzaremos por:\n",
    "\n",
    "● Top 10 de palabras que se encuentran primero de todas las partidas."
   ]
  },
  {
   "cell_type": "code",
   "execution_count": 39,
   "metadata": {},
   "outputs": [
    {
     "name": "stdout",
     "output_type": "stream",
     "text": [
      "{'storage': 1656862419.7607114, 'Merapi(Indonesia)': 0.7370505332946777, 'Sam Smith': 3.434544801712036, 'Cosiguina(Nicaragua)': 33.885794162750244, 'Soufriere Hills(Montserrat)': 10.335142374038696}\n",
      "Top 10 de palabras encontradas primero (desde la encontrada mas rapida hasta la encontrada mas lenta): \n",
      "1 - Merapi(Indonesia) 0.7370505332946777\n",
      "2 - Sam Smith 3.434544801712036\n",
      "3 - Soufriere Hills(Montserrat) 10.335142374038696\n",
      "4 - Cosiguina(Nicaragua) 33.885794162750244\n"
     ]
    }
   ],
   "source": [
    "def obtain_time(top10, value):\n",
    "    ''''\n",
    "    Obtains the total time of the games in the three difficulties. We store the time of the event \"inicio_partida\" in the key: \"storage\"\n",
    "    '''\n",
    "    \n",
    "    if (value[5] == 'nueva'):\n",
    "        top10[\"storage\"] = value[0]\n",
    "    elif (value[5] == 'ok'):\n",
    "        speed = value[0] - top10[\"storage\"]\n",
    "        top10[value[6]] = speed\n",
    "    return top10\n",
    "\n",
    "def show_top10_words():\n",
    "    '''\n",
    "    This function shows the 10 correct words found first in descending order according to how quickly they were found.\n",
    "    '''\n",
    "    try:\n",
    "        data_set = pd.read_csv(file, sep=\",\", encoding='utf-8', on_bad_lines='skip')   \n",
    "    except FileNotFoundError:\n",
    "        return print('File not found')\n",
    "    \n",
    "    top10 = reduce(obtain_time, data_set.values, {})\n",
    "    print(top10)\n",
    "    top10.pop(\"storage\")\n",
    "    sorted_values = sorted(top10.items(), key=lambda x: x[1], reverse=False)\n",
    "    \n",
    "    print('Top 10 de palabras encontradas primero (desde la encontrada mas rapida hasta la encontrada mas lenta): ')\n",
    "    list(map(lambda elem: print(f'{elem[0]+1} - {elem[1][0]} {elem[1][1]}'), enumerate(sorted_values[:10])))\n",
    "\n",
    "show_top10_words()"
   ]
  },
  {
   "cell_type": "markdown",
   "metadata": {},
   "source": [
    "● Gráfico que muestre el porcentaje de partidas por estado (fin, cancelada, error, timeout). También debe tener en cuenta las partidas que se terminaron inesperadamente o de forma repentina (partidas sin evento de fin)"
   ]
  },
  {
   "cell_type": "code",
   "execution_count": 40,
   "metadata": {},
   "outputs": [
    {
     "data": {
      "image/png": "[encoded data removed]",
      "text/plain": [
       "<Figure size 432x288 with 1 Axes>"
      ]
     },
     "metadata": {},
     "output_type": "display_data"
    }
   ],
   "source": [
    "def show_state_piechart():\n",
    "    '''\n",
    "    This function shows a pie chart that shows which % of the total rounds of each state (error, new, end, canceled, ok and timeout).\n",
    "    '''\n",
    "    try:\n",
    "        data_set = pd.read_csv(file, sep=\",\", encoding='utf-8', on_bad_lines='skip')\n",
    "    except FileNotFoundError:\n",
    "        return print('File not found')\n",
    "    \n",
    "    vals = data_set.value_counts('estado')\n",
    "    vals.plot.pie(y='estado',  title=\"Estado\", autopct='%1.1f%%')\n",
    "\n",
    "show_state_piechart()"
   ]
  },
  {
   "cell_type": "markdown",
   "metadata": {},
   "source": [
    "● Gráfico que muestre el porcentaje de partidas finalizadas según género."
   ]
  },
  {
   "cell_type": "code",
   "execution_count": 41,
   "metadata": {},
   "outputs": [
    {
     "data": {
      "image/png": "[encoded data removed]",
      "text/plain": [
       "<Figure size 432x288 with 1 Axes>"
      ]
     },
     "metadata": {},
     "output_type": "display_data"
    }
   ],
   "source": [
    "def show_finished_games_gender_piechart():\n",
    "    '''\n",
    "    This function shows a pie chart depicting the % of games each gender played over the total ammount of games played.\n",
    "    '''\n",
    "    try:\n",
    "        data_set = pd.read_csv(file, sep=\",\", encoding='utf-8', on_bad_lines='skip')\n",
    "    except FileNotFoundError:\n",
    "        return print('File not found')    \n",
    "    \n",
    "    finalized = data_set[data_set[\"estado\"] == 'finalizado'][\"genero\"]\n",
    "    vals = finalized.value_counts('genero')\n",
    "    vals.plot.pie(y='genero',  title=\"Genero\", autopct='%1.1f%%')\n",
    "\n",
    "show_finished_games_gender_piechart()"
   ]
  },
  {
   "cell_type": "markdown",
   "metadata": {},
   "source": [
    "● Gráfico que muestre el porcentaje de partidas finalizadas según nivel."
   ]
  },
  {
   "cell_type": "code",
   "execution_count": 42,
   "metadata": {},
   "outputs": [
    {
     "data": {
      "image/png": "[encoded data removed]",
      "text/plain": [
       "<Figure size 432x288 with 1 Axes>"
      ]
     },
     "metadata": {},
     "output_type": "display_data"
    }
   ],
   "source": [
    "def show_finished_games_level_piechart():\n",
    "    '''\n",
    "    This function shows a pie chart depicting the % each difficulty level has over the total ammount of games played.\n",
    "    '''\n",
    "    try:\n",
    "        data_set = pd.read_csv(file, sep=\",\", encoding='utf-8', on_bad_lines='skip')\n",
    "    except FileNotFoundError:\n",
    "        return print('File not found')\n",
    "    \n",
    "    finalized = data_set[data_set[\"estado\"] == 'finalizado'][\"nivel\"]\n",
    "    vals = finalized.value_counts('nivel')\n",
    "    vals.plot.pie(y='Nivel',  title=\"Nivel\", autopct='%1.1f%%')\n",
    "\n",
    "show_finished_games_level_piechart()"
   ]
  },
  {
   "cell_type": "markdown",
   "metadata": {},
   "source": [
    "● Duración total de cada partida (desde que el usuarie empieza a jugar hasta que presiona salir o pasan las N rondas definidas para el nivel de dificultad actual).\n",
    "\n",
    "Y\n",
    "\n",
    "● Promedio de tiempo de partida general."
   ]
  },
  {
   "cell_type": "code",
   "execution_count": 43,
   "metadata": {},
   "outputs": [
    {
     "name": "stdout",
     "output_type": "stream",
     "text": [
      "La partida numero 1 duro: 4.36 segundos.\n",
      "La partida numero 2 duro: 4.6 segundos.\n",
      "La partida numero 3 duro: 4.56 segundos.\n",
      "La partida numero 4 duro: 5.01 segundos.\n",
      "La partida numero 5 duro: 4.59 segundos.\n",
      "La partida numero 6 duro: 4.49 segundos.\n",
      "La partida numero 7 duro: 4.25 segundos.\n",
      "La partida numero 8 duro: 4.97 segundos.\n",
      "La partida numero 9 duro: 6.6 segundos.\n",
      "La partida numero 10 duro: 138.46 segundos.\n",
      "La partida numero 11 duro: 15.13 segundos.\n",
      "La partida numero 12 duro: 32.52 segundos.\n",
      "La partida numero 13 duro: 5.64 segundos.\n",
      "La partida numero 14 duro: 8.04 segundos.\n",
      "La partida numero 15 duro: 20.55 segundos.\n",
      "La duracion promedio de una partida es de 17.6 segundos\n"
     ]
    }
   ],
   "source": [
    "def obtain_time(list, vals):\n",
    "    ''''\n",
    "    Obtains the total time of the game. We store the time of the event \"inicio_partida\" in the start of the list\n",
    "    '''\n",
    "    match vals[1]:\n",
    "        case 'inicio_partida':\n",
    "            list[0] = vals[0]\n",
    "        case 'fin':\n",
    "            list.append(vals[0] - list[0])\n",
    "    return list\n",
    "\n",
    "def show_game_duration():\n",
    "    '''\n",
    "    This function shows the duration of each game played and then shows the avarege duration of a game.\n",
    "    '''\n",
    "    try:\n",
    "        data_set = pd.read_csv(file, sep=\",\", encoding='utf-8', on_bad_lines='skip')\n",
    "    except FileNotFoundError:\n",
    "        return print('File not found') \n",
    "      \n",
    "    vals = data_set[[\"timestamp\", \"evento\"]].values\n",
    "    game_durations = [vals[0]] if vals.any() else [\"None\"]\n",
    "    game_durations = reduce(obtain_time, vals, game_durations)\n",
    "    game_durations.pop(0)\n",
    "    \n",
    "    list(map(lambda x: print(f'La partida numero {x[0]+1} duro: {round(x[1], 2)} segundos.'), enumerate(game_durations)))\n",
    "    print(f'La duracion promedio de una partida es de {sum(game_durations)/len(game_durations):.3} segundos')\n",
    "\n",
    "show_game_duration()    "
   ]
  },
  {
   "cell_type": "code",
   "execution_count": 44,
   "metadata": {},
   "outputs": [
    {
     "name": "stdout",
     "output_type": "stream",
     "text": [
      "La respuesta mas rapida fue dada en: 0.737 segundos. \n",
      "La velocidad promedio de respuesta es de: 5.593 segundos\n"
     ]
    }
   ],
   "source": [
    "def obtain_speed(list, vals):\n",
    "    ''''\n",
    "    Obtains the speed when the user checks a correct answer. We store the time of the event before in the start of the list\n",
    "    '''\n",
    "    if (vals[1] == 'ok' or vals[1] == 'inicio_partida'):\n",
    "        list.append(vals[0] - list[0])\n",
    "    else:\n",
    "        list[0] = vals[0]\n",
    "    return list\n",
    "    \n",
    "def show_fastest_and_average_answer():\n",
    "    '''\n",
    "    This function is calculates both the avarege time each correct answer takes and the fastest time in which an \"ok\" answer was given.\n",
    "    '''\n",
    "\n",
    "    try:\n",
    "        data_set = pd.read_csv(file, sep=\",\", encoding='utf-8', on_bad_lines='skip')\n",
    "    except FileNotFoundError:\n",
    "        return print('File not found')\n",
    "    \n",
    "    vals = data_set[[\"timestamp\", \"estado\"]].values\n",
    "    answers_speed = [vals[0]] if vals.any() else [\"None\"]\n",
    "    answers_speed = reduce(obtain_speed, vals, answers_speed)\n",
    "    answers_speed.pop(0)\n",
    "    \n",
    "    print(f'La respuesta mas rapida fue dada en: {min(answers_speed):.3} segundos. \\nLa velocidad promedio de respuesta es de: {sum(answers_speed)/len(answers_speed):.5} segundos')\n",
    "\n",
    "show_fastest_and_average_answer()"
   ]
  },
  {
   "cell_type": "markdown",
   "metadata": {},
   "source": [
    "● Porcentaje de aciertos por usuarie."
   ]
  },
  {
   "cell_type": "code",
   "execution_count": 45,
   "metadata": {},
   "outputs": [
    {
     "data": {
      "image/png": "[encoded data removed]",
      "text/plain": [
       "<Figure size 432x288 with 1 Axes>"
      ]
     },
     "metadata": {},
     "output_type": "display_data"
    }
   ],
   "source": [
    "def counts_answers(dicc, elem):\n",
    "    if (elem[1] == \"ok\"):\n",
    "        dicc[elem[0]] += 1\n",
    "    return dicc\n",
    "\n",
    "def show_correct_answers():\n",
    "    '''\n",
    "    This function shows the % of correct answers each user has over the total number of correct answers. This means that if a user \"Juan\" has \n",
    "    played 10 matches and user \"Beto\" has only played once, then \"Juan\" will probably have a much higher % of correct answers, even if overall he \n",
    "    has made more mistakes.\n",
    "    '''\n",
    "\n",
    "    try:\n",
    "        data_set = pd.read_csv(file, sep=\",\", encoding='utf-8', on_bad_lines='skip')\n",
    "    except FileNotFoundError:\n",
    "        return print('File not found')\n",
    "    answers = data_set[[\"usuario\", \"estado\"]].values\n",
    "    dicc = {key: 0 for key in dict(answers).keys()}\n",
    "    dicc = reduce(counts_answers, answers, dicc)\n",
    "    vals = pd.Series(dicc)\n",
    "    vals.plot.pie(y='usuario',  title=\"Respuestas Correctas\", autopct='%1.1f%%',label=\"\")\n",
    "\n",
    "show_correct_answers()"
   ]
  },
  {
   "cell_type": "markdown",
   "metadata": {},
   "source": [
    "● Cantidad de tarjetas para las que el usuarie no dió respuesta (timeout)."
   ]
  },
  {
   "cell_type": "code",
   "execution_count": 46,
   "metadata": {},
   "outputs": [
    {
     "name": "stdout",
     "output_type": "stream",
     "text": [
      "El usuario Sevas tuvo un total de: 2 timeouts.\n",
      "El usuario Natalias tuvo un total de: 0 timeouts.\n",
      "El usuario Aus tuvo un total de: 0 timeouts.\n"
     ]
    }
   ],
   "source": [
    "def counts_timeouts(dicc, elem):\n",
    "    if (elem[1] == 'timeout'):\n",
    "        dicc[elem[0]] += 1\n",
    "    return dicc\n",
    "\n",
    "def show_timeout_answers():\n",
    "    '''\n",
    "    This function works the same way as \"show_correct_answers\" but shows the timeout answers as a number for each user instead.\n",
    "    '''\n",
    "\n",
    "    try:\n",
    "        data_set = pd.read_csv(file, sep=\",\", encoding='utf-8', on_bad_lines='skip')\n",
    "    except FileNotFoundError:\n",
    "        return print('File not found')\n",
    "    answers = data_set[[\"usuario\", \"estado\"]].values\n",
    "    dicc = {key: 0 for key in dict(answers).keys()}\n",
    "    dicc = reduce(counts_timeouts, answers, dicc)\n",
    "    list(map(lambda key: print(f'El usuario {key} tuvo un total de: {dicc[key]} timeouts.'), dicc))\n",
    "\n",
    "show_timeout_answers()"
   ]
  },
  {
   "cell_type": "markdown",
   "metadata": {},
   "source": [
    "● Cantidad de tarjetas en las que el usuarie dió una respuesta errónea."
   ]
  },
  {
   "cell_type": "code",
   "execution_count": 47,
   "metadata": {},
   "outputs": [
    {
     "name": "stdout",
     "output_type": "stream",
     "text": [
      "El usuario Sevas tuvo un total de: 21 respuestas erroneas.\n",
      "El usuario Natalias tuvo un total de: 5 respuestas erroneas.\n",
      "El usuario Aus tuvo un total de: 8 respuestas erroneas.\n"
     ]
    }
   ],
   "source": [
    "def counts_errors(dicc, elem):\n",
    "    if (elem[1] == 'error'):\n",
    "        dicc[elem[0]] += 1\n",
    "    return dicc\n",
    "    \n",
    "def show_wrong_answers():\n",
    "    '''\n",
    "    This function works the same way as \"show_correct_answers\" but shows the wrong answers as a number for each user instead.\n",
    "    '''\n",
    "\n",
    "    try:\n",
    "        data_set = pd.read_csv(file, sep=\",\", encoding='utf-8', on_bad_lines='skip')\n",
    "    except FileNotFoundError:\n",
    "        return print('File not found')\n",
    "    answers = data_set[[\"usuario\", \"estado\"]].values\n",
    "    dicc = {key: 0 for key in dict(answers).keys()}\n",
    "    dicc = reduce(counts_errors, answers, dicc)\n",
    "    list(map(lambda key: print(f'El usuario {key} tuvo un total de: {dicc[key]} respuestas erroneas.'), dicc))\n",
    "\n",
    "show_wrong_answers()"
   ]
  },
  {
   "cell_type": "markdown",
   "metadata": {},
   "source": [
    "● Promedio de tiempo de partidas finalizadas por nivel."
   ]
  },
  {
   "cell_type": "code",
   "execution_count": 48,
   "metadata": {},
   "outputs": [
    {
     "name": "stdout",
     "output_type": "stream",
     "text": [
      "La dificultad \"facil\" tuvo un total de tiempo jugado de: 236.53 segundos. Y se jugaron 9 partidas\n",
      "La dificultad \"facil\" tuvo un promedio de tiempo de juego para una partida de: 26.3 segundos\n",
      "La dificultad \"medio\" tuvo un total de tiempo jugado de: 18.18 segundos. Y se jugaron 4 partidas\n",
      "La dificultad \"medio\" tuvo un promedio de tiempo de juego para una partida de: 4.54 segundos\n",
      "La dificultad \"dificil\" tuvo un total de tiempo jugado de: 9.06 segundos. Y se jugaron 2 partidas\n",
      "La dificultad \"dificil\" tuvo un promedio de tiempo de juego para una partida de: 4.53 segundos\n"
     ]
    }
   ],
   "source": [
    "def obtain_time(dicc, vals):\n",
    "    ''''\n",
    "    Obtains the total time of the games in the three difficulties. We store the time of the event \"inicio_partida\" in the key: \"storage\"\n",
    "    '''\n",
    "    match vals[1]:\n",
    "        case 'inicio_partida':\n",
    "            dicc[\"storage\"] = vals[0]\n",
    "        case 'fin':\n",
    "            dicc[vals[2]].append(vals[0] - dicc[\"storage\"])\n",
    "    return dicc\n",
    "\n",
    "def organize(dicc):\n",
    "    '''\n",
    "    This functions organizes the dicctionary so that it will first show easy, then medium then hard difficulty.\n",
    "    '''\n",
    "    difficulty = dicc.pop('facil')\n",
    "    dicc.update({'facil': difficulty})\n",
    "    difficulty = dicc.pop('medio')\n",
    "    dicc.update({'medio': difficulty})\n",
    "    difficulty = dicc.pop('dificil')\n",
    "    dicc.update({'dificil': difficulty})\n",
    "    return dicc\n",
    "\n",
    "def show_finished_games_per_level():\n",
    "    '''\n",
    "    This function adds the time taken for all finished games of each difficulty level and then shows the avarege time it takes to finish a round\n",
    "    at each difficulty level.\n",
    "    '''\n",
    "\n",
    "    def print_info(key):\n",
    "        prom = sum(dicc[key]) / len(dicc[key])\n",
    "        print(f'La dificultad \"{key}\" tuvo un total de tiempo jugado de: {sum(dicc[key]):.2f} segundos. Y se jugaron {len(dicc[key])} partidas')\n",
    "        print(f'La dificultad \"{key}\" tuvo un promedio de tiempo de juego para una partida de: {prom:.3} segundos')\n",
    "\n",
    "    try:\n",
    "        data_set = pd.read_csv(file, sep=\",\", encoding='utf-8', on_bad_lines='skip')\n",
    "    except FileNotFoundError:\n",
    "        return print('File not found')\n",
    "    finished_games = data_set[[\"timestamp\", \"evento\", \"nivel\"]].values\n",
    "    dicc = {key: [] for key in data_set[\"nivel\"].drop_duplicates()}\n",
    "    dicc = reduce(obtain_time, finished_games, dicc)\n",
    "    dicc.pop(\"storage\")\n",
    "    dicc = organize(dicc)\n",
    "    list(map(print_info, dicc))\n",
    "    \n",
    "show_finished_games_per_level()"
   ]
  },
  {
   "cell_type": "markdown",
   "metadata": {},
   "source": [
    "### Fin del analisis y muestra de datos."
   ]
  }
 ],
 "metadata": {
  "kernelspec": {
   "display_name": "Python 3.10.1 ('venv': venv)",
   "language": "python",
   "name": "python3"
  },
  "language_info": {
   "codemirror_mode": {
    "name": "ipython",
    "version": 3
   },
   "file_extension": ".py",
   "mimetype": "text/x-python",
   "name": "python",
   "nbconvert_exporter": "python",
   "pygments_lexer": "ipython3",
   "version": "3.10.1"
  },
  "orig_nbformat": 4,
  "vscode": {
   "interpreter": {
    "hash": "61894d519f1f3a6ac46fb3fc11103c67e11568b293135f9999a1512672107074"
   }
  }
 },
 "nbformat": 4,
 "nbformat_minor": 2
}
