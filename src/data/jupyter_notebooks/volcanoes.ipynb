{
 "cells": [
  {
   "cell_type": "markdown",
   "id": "666f63e0",
   "metadata": {},
   "source": [
    "## Importaciones:\n",
    "Usamos 2 librerias \"pandas\" para el manejo de archivos y \"os\" para definir el pathing."
   ]
  },
  {
   "cell_type": "code",
   "execution_count": 7,
   "id": "af72573d",
   "metadata": {},
   "outputs": [],
   "source": [
    "import pandas as pd\n",
    "import os"
   ]
  },
  {
   "cell_type": "markdown",
   "id": "8884349a",
   "metadata": {},
   "source": [
    "## Funciones:\n",
    "Solo tenemos una funcion: translate.\n",
    "Esta funcion nos permite traducir el tipo de volcan que se encuentra dentro del archivo csv en ingles al español. La traduccion la hacemos a mano ya que la libreria \"googletrans\" es muy lenta y requiere de una conexion con internet."
   ]
  },
  {
   "cell_type": "code",
   "execution_count": 8,
   "id": "388cbfe7",
   "metadata": {},
   "outputs": [],
   "source": [
    "def translate_match(volcano_types):\n",
    "    for i in range(len(volcano_types)):\n",
    "        match volcano_types[i]: \n",
    "            case \"Caldera\":\n",
    "                volcano_types[i] = \"Caldera volcánica\"\n",
    "            case \"Cinder cone\":\n",
    "                volcano_types[i] = \"Cono de escoria\"\n",
    "            case \"Complex Volcano\":\n",
    "                volcano_types[i] = \"Volcán complejo\"\n",
    "            case \"Compound volcano\":\n",
    "                volcano_types[i] = \"Volcán complejo\"\n",
    "            case \"Crater rows\":\n",
    "                volcano_types[i] = \"Filas de crateres\"\n",
    "            case \"Fissure vent\":\n",
    "                volcano_types[i] = \"Fisura volcánica\"\n",
    "            case \"Lava cone\":\n",
    "                volcano_types[i] = \"Cono de lava\"\n",
    "            case \"Lava dome\":\n",
    "                volcano_types[i] = \"Domo de lava\"\n",
    "            case \"Maar\":\n",
    "                volcano_types[i] = \"Maar\"\n",
    "            case \"Mud volcano\":\n",
    "                volcano_types[i] = \"Volcán de lodo\"\n",
    "            case \"Pumice cone\":\n",
    "                volcano_types[i] = \"Cono volcanico\"\n",
    "            case \"Pyroclastic cone\":\n",
    "                volcano_types[i] = \"Cono volcanico\"\n",
    "            case \"Pyroclastic shield\":\n",
    "                volcano_types[i] = \"Escudo piroclástico\"\n",
    "            case \"Shield volcano\":\n",
    "                volcano_types[i] = \"Volcán en escudo\"\n",
    "            case \"Stratovolcano\":\n",
    "                volcano_types[i] = \"Estratovolcán\"\n",
    "            case \"Subglacial volcano\":\n",
    "                volcano_types[i] = \"Volcán subglaciar\"\n",
    "            case \"Submarine volcano\":\n",
    "                volcano_types[i] = \"Volcán submarino\"\n",
    "            case \"Tuff cone\":\n",
    "                volcano_types[i] = \"Cono de cenizas\"\n",
    "            case \"Volcanic field\":\n",
    "                volcano_types[i] = \"Campo volcánico\"\n",
    "            case _:\n",
    "                volcano_types[i] = \"\"\n",
    "    return volcano_types"
   ]
  },
  {
   "cell_type": "markdown",
   "id": "8d16c772",
   "metadata": {},
   "source": [
    "## Programa Principal:\n",
    "Primero que nada creamos una variable \"new_headers\" la cual actuara como los encabezados de las columnas de nuestro nuevo archivo."
   ]
  },
  {
   "cell_type": "code",
   "execution_count": 9,
   "id": "792e2ab4",
   "metadata": {},
   "outputs": [],
   "source": [
    "new_headers = [\"Year\", \"Volcanic Explosivity Index\", \"Volcano Type\", \"Flag Tsunami\", \"Flag Earthquake\", \"Name and Country\"]"
   ]
  },
  {
   "cell_type": "markdown",
   "id": "6e85c5bd",
   "metadata": {},
   "source": [
    "Luego, abrimos el archivo original (volcanoes.csv) y lo transformamos en un DataFrame. Ademas, creamos un diccionario vacio donde vamos a guardar los datos actualizados para el nuevo archivo csv."
   ]
  },
  {
   "cell_type": "code",
   "execution_count": 10,
   "id": "92d25827",
   "metadata": {},
   "outputs": [],
   "source": [
    "original_volcanoes =os.path.join((os.path.normpath(os.getcwd() + os.sep + os.pardir)), 'files_csv_to_load', 'volcanoes.csv')\n",
    "updated_volcanoes =os.path.join((os.path.normpath(os.getcwd() + os.sep + os.pardir)), 'files_csv', 'updated_volcanoes.csv')\n",
    "data_set = pd.read_csv(original_volcanoes, sep=\";\", encoding='utf-8', on_bad_lines='skip')\n",
    "dicc = {}"
   ]
  },
  {
   "cell_type": "markdown",
   "id": "fd36c54d",
   "metadata": {},
   "source": [
    "Aca armamos el diccionario con la informacion que nos importa, haciendo uso de \"new_headers\" para elegir las columnas necesarias y de \"translate_match\" para traducir el tipo de volcan de ingles a español."
   ]
  },
  {
   "cell_type": "code",
   "execution_count": 11,
   "id": "41d01102",
   "metadata": {},
   "outputs": [],
   "source": [
    "for key in new_headers:\n",
    "    match key:\n",
    "        case 'Volcano Type':\n",
    "            dicc[key] = translate_match(data_set[key].values)\n",
    "        case 'Name and Country':\n",
    "            dicc[key] = data_set[\"Volcano Name\"] + \"(\" + data_set[\"Country\"] + \")\"\n",
    "        case __:\n",
    "            dicc[key] = data_set[key]"
   ]
  },
  {
   "cell_type": "markdown",
   "id": "1ad2aa94",
   "metadata": {},
   "source": [
    "Finalmente armamos un nuevo DataFrame a partir del diccionario creado. Cambiamos el valor de \"Tsunami\" y \"Earthquake\" a True (dejando los valores vacios como estaban) y luego volcamos el DataFrame en un nuevo archivo .csv"
   ]
  },
  {
   "cell_type": "code",
   "execution_count": 12,
   "id": "f9c4d0a1",
   "metadata": {},
   "outputs": [],
   "source": [
    "new_data_set = pd.DataFrame.from_dict(dicc)\n",
    "new_data_set = new_data_set.replace(\"Tsunami\", True)\n",
    "new_data_set = new_data_set.replace(\"Earthquake\", True)\n",
    "new_data_set.to_csv(updated_volcanoes, index=False, encoding='utf-8')"
   ]
  }
 ],
 "metadata": {
  "kernelspec": {
   "display_name": "Python 3.10.4 64-bit",
   "language": "python",
   "name": "python3"
  },
  "language_info": {
   "codemirror_mode": {
    "name": "ipython",
    "version": 3
   },
   "file_extension": ".py",
   "mimetype": "text/x-python",
   "name": "python",
   "nbconvert_exporter": "python",
   "pygments_lexer": "ipython3",
   "version": "3.10.4"
  },
  "vscode": {
   "interpreter": {
    "hash": "e876daec862956c32cdb8efc282e3454978d221baa9883ca36b8b1a1935f01d6"
   }
  }
 },
 "nbformat": 4,
 "nbformat_minor": 5
}
