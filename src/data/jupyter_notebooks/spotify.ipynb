{
 "cells": [
  {
   "cell_type": "markdown",
   "metadata": {},
   "source": [
    "# __Análisis y transformación de CSV__\n",
    "\n",
    "#### Dataset elegido: *Top 100 de temas musicales de Spotify 2010 a 2019* \n",
    "[Archivo CSV para descargar](https://www.kaggle.com/datasets/muhmores/spotify-top-100-songs-of-20152019)\n",
    "\n",
    "##### <html><u>Trabajo a realizar</u></html>\n",
    "\n",
    "Se deberán realizar los siguientes cambios a el archivo csv y crear un nuevo dataset, para utilizarlo dentro de nuestro proyecto.\n",
    "\n",
    "Cambios:\n",
    "* Poner en “title case” los géneros musicales excepto las siglas EDM, DFW, UK, R&B y\n",
    "LGBTQ+ que deben ir en mayúsculas. Por ejemplo “dfw rap” debe ser transformado a\n",
    "“DFW Rap”.\n",
    "* Considerar también la excepción “k-pop” que debe ser transformada a “K-Pop”.\n",
    "* Se utilizarán como datos de las tarjetas “Top Genre”, “Year Released”, “BPM”, “Top\n",
    "Year” y “Artist Type”. Como dato a adivinar se utilizará “Artist”. Descartar el resto de las\n",
    "columnas.\n",
    "* El archivo resultante deberá tener las siguientes columnas (en este orden específico):\n",
    "“Top Genre”, “Artist Type”, “Year Released”, “Top Year”, “BPM” y “Artist\n",
    "\n",
    "##### <html><u>Codigo explicado</u></html>\n",
    "\n",
    "Debemos primero especificar los path de los archivos y asignarselos a diferentes variables, que luego usaremos para poder abrirlos.\n",
    "\n",
    "Tener en cuenta que nuestro csv nuevo estara en la ruta \"data\\\\files_csv\""
   ]
  },
  {
   "cell_type": "code",
   "execution_count": 1,
   "metadata": {},
   "outputs": [],
   "source": [
    "import os\n",
    "original_spotify = os.path.join((os.path.normpath(os.getcwd() + os.sep + os.pardir)), 'files_csv_to_load', 'spotify.csv')\n",
    "updated_spotify = os.path.join((os.path.normpath(os.getcwd() + os.sep + os.pardir)), 'files_csv', 'updated_spotify.csv')"
   ]
  },
  {
   "cell_type": "markdown",
   "metadata": {},
   "source": [
    "Para poder analizar los datos y transformarlos, debemos definir una función que pueda ser utilizada en un apply() y aplicarla en cada fila del DataFrame. Su código deberá modificar las columnas mencionadas en el inicio del notebook, teniendo en cuenta sus excepciones.\n",
    "\n",
    "__<html><u>Función title_parser</html></u>__\n",
    "\n",
    "Para esto le mandamos la fila a la función, tomamos la segunda columna de la misma (title), la colocamos en title_case y verificamos que no se deba aplicar algun otro proceso. Si ese es el caso, se tendrá en cuenta que modificación se realizará.\n",
    "\n",
    "Aquellos géneros que deben estar en mayúsculas, hay que tener cuidado, ya que pueden estar acompañadas por palabras que deben respetar el title_case. Para poder resolver esto, dividimos el string en una lista, y pasamos a mayúsculas solo el primer elemento; que es el que nos interesa.\n",
    "\n",
    "Para R&b no podemos aplicar este proceso, ya que suele estar al final del string, lo que nos complica el parseo. Utilizamos un replace y se resuelve facilmente. Lo mismo se realiza en K-pop."
   ]
  },
  {
   "cell_type": "code",
   "execution_count": 2,
   "metadata": {},
   "outputs": [],
   "source": [
    "def title_parser(elem):\n",
    "    '''Updates and filters the genre titles to title case having in account some exceptions.'''\n",
    "    elem[2] = elem[2].title()\n",
    "    if ('Edm' in elem[2]) or ('Dfw' in elem[2]) or ('Uk' in elem[2]) or ('Lgbtq+' in elem[2]):\n",
    "        l = elem[2].split(' ')\n",
    "        l[0] = l[0].upper()\n",
    "        elem[2] = ' '.join(l)\n",
    "    elif ('R&b' in elem[2]):\n",
    "        elem[2] = elem[2].replace('R&b', 'R&B')\n",
    "    elif ('K-pop' in elem[2]):\n",
    "        elem[2] = elem[2].replace('K-pop', 'K-Pop')\n",
    "    return elem"
   ]
  },
  {
   "cell_type": "markdown",
   "metadata": {},
   "source": [
    "Luego abriremos los archivos con un with (el antigüo en modo read y el actualizado en write) y transformaremos el csv a un DataFrame.\n",
    "\n",
    "Aplicamos el parseo a los datos, con un apply() y la función anteriormente explicada; guardándolo en nuestra anterior variable, pisandola.\n",
    "\n",
    "Declaramos un diccionario, que utilizaremos para el nuevo DataFrame, y le colocamos como index las columnas pedidas. Recorremos el mismo y a cada llave del diccionario le ingresamos los datos de la columna equivalente en el DataFrame.\n",
    "\n",
    "Por ultimo creamos el DataFrame desde el diccionario y lo pasamos a csv."
   ]
  },
  {
   "cell_type": "code",
   "execution_count": 3,
   "metadata": {},
   "outputs": [],
   "source": [
    "import pandas as pd\n",
    "with open(original_spotify, 'r', encoding=\"utf8\") as arcIn, open(updated_spotify, 'w', newline='', encoding='utf8') as arcOut:\n",
    "    df = pd.read_csv(original_spotify, encoding='utf-8')\n",
    "    df = df.apply(title_parser, axis=1)    \n",
    "    dicc = {\"top genre\": [], \"artist type\": [], \"year released\": [], \"top year\": [], \"bpm\": [], \"artist\": []}\n",
    "    for key in dicc:\n",
    "        dicc[key] = df[key]\n",
    "    dataset_updated = pd.DataFrame.from_dict(dicc).set_index(\"top genre\")\n",
    "    dataset_updated.to_csv(updated_spotify, encoding='utf-8')\n"
   ]
  },
  {
   "cell_type": "markdown",
   "metadata": {},
   "source": [
    "De esta forma ya tenemos nuestro csv parseado y listo a ser utilizado en el proyecto."
   ]
  }
 ],
 "metadata": {
  "kernelspec": {
   "display_name": "Python 3.10.4 64-bit",
   "language": "python",
   "name": "python3"
  },
  "language_info": {
   "codemirror_mode": {
    "name": "ipython",
    "version": 3
   },
   "file_extension": ".py",
   "mimetype": "text/x-python",
   "name": "python",
   "nbconvert_exporter": "python",
   "pygments_lexer": "ipython3",
   "version": "3.10.4"
  },
  "orig_nbformat": 4,
  "vscode": {
   "interpreter": {
    "hash": "e876daec862956c32cdb8efc282e3454978d221baa9883ca36b8b1a1935f01d6"
   }
  }
 },
 "nbformat": 4,
 "nbformat_minor": 2
}
