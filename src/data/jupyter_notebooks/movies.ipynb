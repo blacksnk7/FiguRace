{
 "cells": [
  {
   "cell_type": "markdown",
   "id": "7dfc7fbd",
   "metadata": {},
   "source": [
    "Deberá adaptar los datos de la siguiente forma:\n",
    "\n",
    "* Descartar las películas que no tienen “overview”.\n",
    "* Descartar las películas cuyo idioma original tenga más de 2 caracteres.\n",
    "* Tomar las 100 palabras más comunes de todos los overviews combinados.\n",
    "* Para generar el ”Overview” de cada película para el archivo de salida se deberán\n",
    "descartar las palabras que se encuentren dentro de las 100 más comunes de todos los\n",
    "overviews y se deberá generar un string con 3 palabras tomadas al azar y ordenadas al\n",
    "azar (ver random.sample()) de ese resultado. Nota: luego de filtrar las palabras\n",
    "comunes algunos overviews pueden tener menos de 3 palabras, en esos casos se\n",
    "tomarán las palabras que se pueda."
   ]
  },
  {
   "cell_type": "code",
   "execution_count": 8,
   "id": "b7d2fe2d",
   "metadata": {},
   "outputs": [],
   "source": [
    "import os\n",
    "import pandas as pd\n",
    "from collections import Counter\n",
    "from random import sample"
   ]
  },
  {
   "cell_type": "markdown",
   "id": "eb37ec28",
   "metadata": {},
   "source": [
    "esComun sive para poder checkear si la cadena que entra por referencia se encuentra en la lista de palabras mas comunes."
   ]
  },
  {
   "cell_type": "code",
   "execution_count": 9,
   "id": "bae4f538",
   "metadata": {},
   "outputs": [],
   "source": [
    "def es_palabra_comun(palabra,palabrasComunes):\n",
    "    return True if palabra in palabrasComunes else False"
   ]
  },
  {
   "cell_type": "markdown",
   "id": "1bbc4a58",
   "metadata": {},
   "source": [
    "Abrimos el archivo mediante pandas"
   ]
  },
  {
   "cell_type": "code",
   "execution_count": 10,
   "id": "444d17b1",
   "metadata": {},
   "outputs": [],
   "source": [
    "original_movie_path = os.path.join((os.path.normpath(os.getcwd() + os.sep + os.pardir)), 'files_csv_to_load', 'movies.csv')\n",
    "new_movie_path = os.path.join((os.path.normpath(os.getcwd() + os.sep + os.pardir)), 'files_csv', 'updated_mymoviedb.csv')\n",
    "archivoMovies = pd.read_csv(original_movie_path, header=0)"
   ]
  },
  {
   "cell_type": "markdown",
   "id": "449f1af5",
   "metadata": {},
   "source": [
    "Creamos \"listaNueva\" para los elementos que cumplen las condiciones para ser exportados al nuevo csv"
   ]
  },
  {
   "cell_type": "code",
   "execution_count": 11,
   "id": "ecc39623",
   "metadata": {},
   "outputs": [],
   "source": [
    "listaNueva = archivoMovies[(archivoMovies[\"Overview\"]!= \" \")]"
   ]
  },
  {
   "cell_type": "markdown",
   "id": "40b9be99",
   "metadata": {},
   "source": [
    "PALABRAS MAS COMUNES DEL OVERVIEW\n",
    "\n",
    "RECORREMOS LA LISTA NUEVA Y AHI RECORREMOS TODOS LAS PALABRAS DE LOS OVERVIEWS AGREGANDOLAS A LA LISTA todasLasPalabras \n",
    "\n",
    "UTILIZO palabrasAux PARA GUARDAR LAS 100 PALABRAS MAS COMUNES MEDIANTE EL most_common\n",
    "\n",
    "y en palabrasComunes guardamos solo las palabras ya que en palabrasAux nos queda una tupla con la palabra y la cantidad de repeticiones"
   ]
  },
  {
   "cell_type": "code",
   "execution_count": 12,
   "id": "16fee68c",
   "metadata": {},
   "outputs": [
    {
     "name": "stdout",
     "output_type": "stream",
     "text": [
      "\n",
      "\n",
      "\n",
      "\n",
      "\n",
      "\n",
      "\n",
      "\n",
      "\n"
     ]
    }
   ],
   "source": [
    "todasLasPalabras= []\n",
    "\n",
    "for ind in listaNueva.index:\n",
    "    try: \n",
    "        aux = (listaNueva[\"Overview\"][ind]).split()\n",
    "        for word in aux:\n",
    "            todasLasPalabras.append(word)\n",
    "    \n",
    "    except AttributeError:\n",
    "        print(\"\")\n",
    "\n",
    "# GUARDO LAS 100 PALABRAS MAS COMUNES EN UNA LISTA      \n",
    "\n",
    "contadorOverview = Counter(list(todasLasPalabras))\n",
    "\n",
    "palabrasAux = (contadorOverview.most_common(100))\n",
    "\n",
    "palabrasComunes = []\n",
    "\n",
    "for i in palabrasAux:\n",
    "    palabrasComunes.append(i[0])"
   ]
  },
  {
   "cell_type": "markdown",
   "id": "ab687dbd",
   "metadata": {},
   "source": [
    "EDITAMOS EL OVERVIEW DE LA LISTA NUEVA SACANDO LAS PALABRAS MAS COMUNES Y DEJANDO 4 PALABRAS AL AZAR, AUNQUE EXISTEN CASOS QUE SOLO HAY 2 O INCLUSO 1 PALABRA RESTANTE"
   ]
  },
  {
   "cell_type": "code",
   "execution_count": 13,
   "id": "cc920e8e",
   "metadata": {},
   "outputs": [
    {
     "name": "stdout",
     "output_type": "stream",
     "text": [
      "\n",
      "\n",
      "\n",
      "\n",
      "\n",
      "\n",
      "\n",
      "\n",
      "\n"
     ]
    }
   ],
   "source": [
    "\n",
    "for i in listaNueva.index:\n",
    "    overviewLimpio = []\n",
    "    try:    \n",
    "        aux = (listaNueva[\"Overview\"][i]).split()\n",
    "        for j in aux:\n",
    "            if(not es_palabra_comun(j,palabrasComunes)):\n",
    "                overviewLimpio.append(j)\n",
    "\n",
    "        #EXISTEN 2 CASOS DE PELICULAS CON MENOS DE 2 PALABRAS\n",
    "        if(len(overviewLimpio) < 4):\n",
    "            listaNueva.loc[i,\"Overview\"] = \";\".join(sample(overviewLimpio,1))\n",
    "        else:\n",
    "            listaNueva.loc[i,\"Overview\"] = \";\".join(sample(overviewLimpio,4))\n",
    "\n",
    "    except AttributeError:\n",
    "        print(\"\")"
   ]
  },
  {
   "cell_type": "markdown",
   "id": "fe98322b",
   "metadata": {},
   "source": [
    "REORGANIZAMOS LAS COLUMNAS Y LO EXPORAMOS"
   ]
  },
  {
   "cell_type": "code",
   "execution_count": 14,
   "id": "16bbba82",
   "metadata": {},
   "outputs": [],
   "source": [
    "listaNueva= listaNueva[['Genre','Original_Language','Release_Date','Vote_Average','Overview','Title']]\n",
    "\n",
    "listaNueva.to_csv(new_movie_path, index=False)"
   ]
  }
 ],
 "metadata": {
  "kernelspec": {
   "display_name": "Python 3.10.4 64-bit",
   "language": "python",
   "name": "python3"
  },
  "language_info": {
   "codemirror_mode": {
    "name": "ipython",
    "version": 3
   },
   "file_extension": ".py",
   "mimetype": "text/x-python",
   "name": "python",
   "nbconvert_exporter": "python",
   "pygments_lexer": "ipython3",
   "version": "3.10.4"
  },
  "vscode": {
   "interpreter": {
    "hash": "e876daec862956c32cdb8efc282e3454978d221baa9883ca36b8b1a1935f01d6"
   }
  }
 },
 "nbformat": 4,
 "nbformat_minor": 5
}
